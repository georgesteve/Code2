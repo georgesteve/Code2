{
  "nbformat": 4,
  "nbformat_minor": 0,
  "metadata": {
    "colab": {
      "name": "Comparativa entre KNN, Desicion Trees y Esemble Learning.ipynb",
      "version": "0.3.2",
      "provenance": [],
      "include_colab_link": true
    },
    "kernelspec": {
      "display_name": "Python 3",
      "language": "python",
      "name": "python3"
    }
  },
  "cells": [
    {
      "cell_type": "markdown",
      "metadata": {
        "id": "view-in-github",
        "colab_type": "text"
      },
      "source": [
        "<a href=\"https://colab.research.google.com/github/georgesteve/Code2/blob/master/Comparativa_entre_KNN,_Desicion_Trees_y_Esemble_Learning.ipynb\" target=\"_parent\"><img src=\"https://colab.research.google.com/assets/colab-badge.svg\" alt=\"Open In Colab\"/></a>"
      ]
    },
    {
      "metadata": {
        "id": "bhV2QjDJ5pls",
        "colab_type": "text"
      },
      "cell_type": "markdown",
      "source": [
        "# Comparativa entre KNN, Desicion Trees y Esemble Learning"
      ]
    },
    {
      "metadata": {
        "id": "2T0ZE-V65plv",
        "colab_type": "text"
      },
      "cell_type": "markdown",
      "source": [
        "## Introdución\n",
        "\n",
        "Para la presentacion de la practica 3 y 4 del curso de Inteligencia Artificial a cargo del Dr. Ing. Paul Cardenas, para lo cual realizamos lo siguiente:\n",
        "Usando una base de datos para selección del color de los vinos, entre estos datos estan contenidos propiedades quimicas del vino, ademas de caracteristicas de calidad (3-9 mas es mejor) y por último el color del vino (rojo y blanco). El nombre del archivo es 'Wine_Quality_Data.csv'."
      ]
    },
    {
      "metadata": {
        "collapsed": true,
        "id": "OnEKYziO5plx",
        "colab_type": "text"
      },
      "cell_type": "markdown",
      "source": [
        "## Carga de la Data\n"
      ]
    },
    {
      "metadata": {
        "ExecuteTime": {
          "end_time": "2017-05-09T23:59:20.515409Z",
          "start_time": "2017-05-09T23:59:20.508062Z"
        },
        "id": "suc-1CYD5plz",
        "colab_type": "code",
        "outputId": "addae637-22b8-447a-9e7a-688f347f1490",
        "colab": {
          "base_uri": "https://localhost:8080/",
          "height": 3264
        }
      },
      "cell_type": "code",
      "source": [
        "\n",
        "\n",
        "\n",
        "%matplotlib inline\n",
        "from __future__ import print_function\n",
        "import os\n",
        "\n",
        "import pandas as pd\n",
        "import numpy as np\n",
        "import matplotlib.pyplot as plt\n",
        "from sklearn.decomposition import PCA\n",
        "from sklearn.model_selection import train_test_split\n",
        "\n",
        "\n",
        "# Cargar el Drive helper y mount\n",
        "from google.colab import drive\n",
        "\n",
        "# Link y Codigo de autorizacion.\n",
        "drive.mount('/content/drive_all')\n",
        "\n",
        "# Cargar datos del google drive\n",
        "data_path = ['data']\n",
        "filepath = pd.read_csv('/content/drive_all/My Drive/dataset/Wine_Quality_Data.csv')\n",
        "\n",
        "\n",
        "\n",
        "#filepath = os.sep.join(data_path + filepath)\n",
        "#data = pd.read_csv(filepath, sep=',')\n",
        "\n",
        "print(filepath)\n",
        "\n",
        "data=filepath;\n",
        "\n"
      ],
      "execution_count": 0,
      "outputs": [
        {
          "output_type": "stream",
          "text": [
            "Drive already mounted at /content/drive_all; to attempt to forcibly remount, call drive.mount(\"/content/drive_all\", force_remount=True).\n",
            "      fixed_acidity  volatile_acidity  citric_acid  residual_sugar  chlorides  \\\n",
            "0               7.4             0.700         0.00            1.90      0.076   \n",
            "1               7.8             0.880         0.00            2.60      0.098   \n",
            "2               7.8             0.760         0.04            2.30      0.092   \n",
            "3              11.2             0.280         0.56            1.90      0.075   \n",
            "4               7.4             0.700         0.00            1.90      0.076   \n",
            "5               7.4             0.660         0.00            1.80      0.075   \n",
            "6               7.9             0.600         0.06            1.60      0.069   \n",
            "7               7.3             0.650         0.00            1.20      0.065   \n",
            "8               7.8             0.580         0.02            2.00      0.073   \n",
            "9               7.5             0.500         0.36            6.10      0.071   \n",
            "10              6.7             0.580         0.08            1.80      0.097   \n",
            "11              7.5             0.500         0.36            6.10      0.071   \n",
            "12              5.6             0.615         0.00            1.60      0.089   \n",
            "13              7.8             0.610         0.29            1.60      0.114   \n",
            "14              8.9             0.620         0.18            3.80      0.176   \n",
            "15              8.9             0.620         0.19            3.90      0.170   \n",
            "16              8.5             0.280         0.56            1.80      0.092   \n",
            "17              8.1             0.560         0.28            1.70      0.368   \n",
            "18              7.4             0.590         0.08            4.40      0.086   \n",
            "19              7.9             0.320         0.51            1.80      0.341   \n",
            "20              8.9             0.220         0.48            1.80      0.077   \n",
            "21              7.6             0.390         0.31            2.30      0.082   \n",
            "22              7.9             0.430         0.21            1.60      0.106   \n",
            "23              8.5             0.490         0.11            2.30      0.084   \n",
            "24              6.9             0.400         0.14            2.40      0.085   \n",
            "25              6.3             0.390         0.16            1.40      0.080   \n",
            "26              7.6             0.410         0.24            1.80      0.080   \n",
            "27              7.9             0.430         0.21            1.60      0.106   \n",
            "28              7.1             0.710         0.00            1.90      0.080   \n",
            "29              7.8             0.645         0.00            2.00      0.082   \n",
            "...             ...               ...          ...             ...        ...   \n",
            "6467            5.8             0.230         0.31            4.50      0.046   \n",
            "6468            6.6             0.240         0.33           10.10      0.032   \n",
            "6469            6.1             0.320         0.28            6.60      0.021   \n",
            "6470            5.0             0.200         0.40            1.90      0.015   \n",
            "6471            6.0             0.420         0.41           12.40      0.032   \n",
            "6472            5.7             0.210         0.32            1.60      0.030   \n",
            "6473            5.6             0.200         0.36            2.50      0.048   \n",
            "6474            7.4             0.220         0.26            1.20      0.035   \n",
            "6475            6.2             0.380         0.42            2.50      0.038   \n",
            "6476            5.9             0.540         0.00            0.80      0.032   \n",
            "6477            6.2             0.530         0.02            0.90      0.035   \n",
            "6478            6.6             0.340         0.40            8.10      0.046   \n",
            "6479            6.6             0.340         0.40            8.10      0.046   \n",
            "6480            5.0             0.235         0.27           11.75      0.030   \n",
            "6481            5.5             0.320         0.13            1.30      0.037   \n",
            "6482            4.9             0.470         0.17            1.90      0.035   \n",
            "6483            6.5             0.330         0.38            8.30      0.048   \n",
            "6484            6.6             0.340         0.40            8.10      0.046   \n",
            "6485            6.2             0.210         0.28            5.70      0.028   \n",
            "6486            6.2             0.410         0.22            1.90      0.023   \n",
            "6487            6.8             0.220         0.36            1.20      0.052   \n",
            "6488            4.9             0.235         0.27           11.75      0.030   \n",
            "6489            6.1             0.340         0.29            2.20      0.036   \n",
            "6490            5.7             0.210         0.32            0.90      0.038   \n",
            "6491            6.5             0.230         0.38            1.30      0.032   \n",
            "6492            6.2             0.210         0.29            1.60      0.039   \n",
            "6493            6.6             0.320         0.36            8.00      0.047   \n",
            "6494            6.5             0.240         0.19            1.20      0.041   \n",
            "6495            5.5             0.290         0.30            1.10      0.022   \n",
            "6496            6.0             0.210         0.38            0.80      0.020   \n",
            "\n",
            "      free_sulfur_dioxide  total_sulfur_dioxide  density    pH  sulphates  \\\n",
            "0                    11.0                  34.0  0.99780  3.51       0.56   \n",
            "1                    25.0                  67.0  0.99680  3.20       0.68   \n",
            "2                    15.0                  54.0  0.99700  3.26       0.65   \n",
            "3                    17.0                  60.0  0.99800  3.16       0.58   \n",
            "4                    11.0                  34.0  0.99780  3.51       0.56   \n",
            "5                    13.0                  40.0  0.99780  3.51       0.56   \n",
            "6                    15.0                  59.0  0.99640  3.30       0.46   \n",
            "7                    15.0                  21.0  0.99460  3.39       0.47   \n",
            "8                     9.0                  18.0  0.99680  3.36       0.57   \n",
            "9                    17.0                 102.0  0.99780  3.35       0.80   \n",
            "10                   15.0                  65.0  0.99590  3.28       0.54   \n",
            "11                   17.0                 102.0  0.99780  3.35       0.80   \n",
            "12                   16.0                  59.0  0.99430  3.58       0.52   \n",
            "13                    9.0                  29.0  0.99740  3.26       1.56   \n",
            "14                   52.0                 145.0  0.99860  3.16       0.88   \n",
            "15                   51.0                 148.0  0.99860  3.17       0.93   \n",
            "16                   35.0                 103.0  0.99690  3.30       0.75   \n",
            "17                   16.0                  56.0  0.99680  3.11       1.28   \n",
            "18                    6.0                  29.0  0.99740  3.38       0.50   \n",
            "19                   17.0                  56.0  0.99690  3.04       1.08   \n",
            "20                   29.0                  60.0  0.99680  3.39       0.53   \n",
            "21                   23.0                  71.0  0.99820  3.52       0.65   \n",
            "22                   10.0                  37.0  0.99660  3.17       0.91   \n",
            "23                    9.0                  67.0  0.99680  3.17       0.53   \n",
            "24                   21.0                  40.0  0.99680  3.43       0.63   \n",
            "25                   11.0                  23.0  0.99550  3.34       0.56   \n",
            "26                    4.0                  11.0  0.99620  3.28       0.59   \n",
            "27                   10.0                  37.0  0.99660  3.17       0.91   \n",
            "28                   14.0                  35.0  0.99720  3.47       0.55   \n",
            "29                    8.0                  16.0  0.99640  3.38       0.59   \n",
            "...                   ...                   ...      ...   ...        ...   \n",
            "6467                 42.0                 124.0  0.99324  3.31       0.64   \n",
            "6468                  8.0                  81.0  0.99626  3.19       0.51   \n",
            "6469                 29.0                 132.0  0.99188  3.15       0.36   \n",
            "6470                 20.0                  98.0  0.98970  3.37       0.55   \n",
            "6471                 50.0                 179.0  0.99622  3.14       0.60   \n",
            "6472                 33.0                 122.0  0.99044  3.33       0.52   \n",
            "6473                 16.0                 125.0  0.99282  3.49       0.49   \n",
            "6474                 18.0                  97.0  0.99245  3.12       0.41   \n",
            "6475                 34.0                 117.0  0.99132  3.36       0.59   \n",
            "6476                 12.0                  82.0  0.99286  3.25       0.36   \n",
            "6477                  6.0                  81.0  0.99234  3.24       0.35   \n",
            "6478                 68.0                 170.0  0.99494  3.15       0.50   \n",
            "6479                 68.0                 170.0  0.99494  3.15       0.50   \n",
            "6480                 34.0                 118.0  0.99540  3.07       0.50   \n",
            "6481                 45.0                 156.0  0.99184  3.26       0.38   \n",
            "6482                 60.0                 148.0  0.98964  3.27       0.35   \n",
            "6483                 68.0                 174.0  0.99492  3.14       0.50   \n",
            "6484                 68.0                 170.0  0.99494  3.15       0.50   \n",
            "6485                 45.0                 121.0  0.99168  3.21       1.08   \n",
            "6486                  5.0                  56.0  0.98928  3.04       0.79   \n",
            "6487                 38.0                 127.0  0.99330  3.04       0.54   \n",
            "6488                 34.0                 118.0  0.99540  3.07       0.50   \n",
            "6489                 25.0                 100.0  0.98938  3.06       0.44   \n",
            "6490                 38.0                 121.0  0.99074  3.24       0.46   \n",
            "6491                 29.0                 112.0  0.99298  3.29       0.54   \n",
            "6492                 24.0                  92.0  0.99114  3.27       0.50   \n",
            "6493                 57.0                 168.0  0.99490  3.15       0.46   \n",
            "6494                 30.0                 111.0  0.99254  2.99       0.46   \n",
            "6495                 20.0                 110.0  0.98869  3.34       0.38   \n",
            "6496                 22.0                  98.0  0.98941  3.26       0.32   \n",
            "\n",
            "        alcohol  quality  color  \n",
            "0      9.400000        5    red  \n",
            "1      9.800000        5    red  \n",
            "2      9.800000        5    red  \n",
            "3      9.800000        6    red  \n",
            "4      9.400000        5    red  \n",
            "5      9.400000        5    red  \n",
            "6      9.400000        5    red  \n",
            "7     10.000000        7    red  \n",
            "8      9.500000        7    red  \n",
            "9     10.500000        5    red  \n",
            "10     9.200000        5    red  \n",
            "11    10.500000        5    red  \n",
            "12     9.900000        5    red  \n",
            "13     9.100000        5    red  \n",
            "14     9.200000        5    red  \n",
            "15     9.200000        5    red  \n",
            "16    10.500000        7    red  \n",
            "17     9.300000        5    red  \n",
            "18     9.000000        4    red  \n",
            "19     9.200000        6    red  \n",
            "20     9.400000        6    red  \n",
            "21     9.700000        5    red  \n",
            "22     9.500000        5    red  \n",
            "23     9.400000        5    red  \n",
            "24     9.700000        6    red  \n",
            "25     9.300000        5    red  \n",
            "26     9.500000        5    red  \n",
            "27     9.500000        5    red  \n",
            "28     9.400000        5    red  \n",
            "29     9.800000        6    red  \n",
            "...         ...      ...    ...  \n",
            "6467  10.800000        6  white  \n",
            "6468   9.800000        6  white  \n",
            "6469  11.450000        7  white  \n",
            "6470  12.050000        6  white  \n",
            "6471   9.700000        5  white  \n",
            "6472  11.900000        6  white  \n",
            "6473  10.000000        6  white  \n",
            "6474   9.700000        6  white  \n",
            "6475  11.600000        7  white  \n",
            "6476   8.800000        5  white  \n",
            "6477   9.500000        4  white  \n",
            "6478   9.533333        6  white  \n",
            "6479   9.533333        6  white  \n",
            "6480   9.400000        6  white  \n",
            "6481  10.700000        5  white  \n",
            "6482  11.500000        6  white  \n",
            "6483   9.600000        5  white  \n",
            "6484   9.550000        6  white  \n",
            "6485  12.150000        7  white  \n",
            "6486  13.000000        7  white  \n",
            "6487   9.200000        5  white  \n",
            "6488   9.400000        6  white  \n",
            "6489  11.800000        6  white  \n",
            "6490  10.600000        6  white  \n",
            "6491   9.700000        5  white  \n",
            "6492  11.200000        6  white  \n",
            "6493   9.600000        5  white  \n",
            "6494   9.400000        6  white  \n",
            "6495  12.800000        7  white  \n",
            "6496  11.800000        6  white  \n",
            "\n",
            "[6497 rows x 13 columns]\n"
          ],
          "name": "stdout"
        }
      ]
    },
    {
      "metadata": {
        "id": "lODJ0nYw5pl4",
        "colab_type": "text"
      },
      "cell_type": "markdown",
      "source": [
        "## Revisión de las Caractericas (Features) de la Data\n",
        "\n",
        "* Examinamos la data."
      ]
    },
    {
      "metadata": {
        "ExecuteTime": {
          "end_time": "2017-05-09T23:59:21.203609Z",
          "start_time": "2017-05-09T23:59:20.517816Z"
        },
        "scrolled": true,
        "id": "Hn9JujRt5pl5",
        "colab_type": "code",
        "outputId": "9130a8d1-52c0-4062-acfa-0a01441e6dec",
        "colab": {
          "base_uri": "https://localhost:8080/",
          "height": 204
        }
      },
      "cell_type": "code",
      "source": [
        "data.head()"
      ],
      "execution_count": 0,
      "outputs": [
        {
          "output_type": "execute_result",
          "data": {
            "text/html": [
              "<div>\n",
              "<style scoped>\n",
              "    .dataframe tbody tr th:only-of-type {\n",
              "        vertical-align: middle;\n",
              "    }\n",
              "\n",
              "    .dataframe tbody tr th {\n",
              "        vertical-align: top;\n",
              "    }\n",
              "\n",
              "    .dataframe thead th {\n",
              "        text-align: right;\n",
              "    }\n",
              "</style>\n",
              "<table border=\"1\" class=\"dataframe\">\n",
              "  <thead>\n",
              "    <tr style=\"text-align: right;\">\n",
              "      <th></th>\n",
              "      <th>fixed_acidity</th>\n",
              "      <th>volatile_acidity</th>\n",
              "      <th>citric_acid</th>\n",
              "      <th>residual_sugar</th>\n",
              "      <th>chlorides</th>\n",
              "      <th>free_sulfur_dioxide</th>\n",
              "      <th>total_sulfur_dioxide</th>\n",
              "      <th>density</th>\n",
              "      <th>pH</th>\n",
              "      <th>sulphates</th>\n",
              "      <th>alcohol</th>\n",
              "      <th>quality</th>\n",
              "      <th>color</th>\n",
              "    </tr>\n",
              "  </thead>\n",
              "  <tbody>\n",
              "    <tr>\n",
              "      <th>0</th>\n",
              "      <td>7.4</td>\n",
              "      <td>0.70</td>\n",
              "      <td>0.00</td>\n",
              "      <td>1.9</td>\n",
              "      <td>0.076</td>\n",
              "      <td>11.0</td>\n",
              "      <td>34.0</td>\n",
              "      <td>0.9978</td>\n",
              "      <td>3.51</td>\n",
              "      <td>0.56</td>\n",
              "      <td>9.4</td>\n",
              "      <td>5</td>\n",
              "      <td>1</td>\n",
              "    </tr>\n",
              "    <tr>\n",
              "      <th>1</th>\n",
              "      <td>7.8</td>\n",
              "      <td>0.88</td>\n",
              "      <td>0.00</td>\n",
              "      <td>2.6</td>\n",
              "      <td>0.098</td>\n",
              "      <td>25.0</td>\n",
              "      <td>67.0</td>\n",
              "      <td>0.9968</td>\n",
              "      <td>3.20</td>\n",
              "      <td>0.68</td>\n",
              "      <td>9.8</td>\n",
              "      <td>5</td>\n",
              "      <td>1</td>\n",
              "    </tr>\n",
              "    <tr>\n",
              "      <th>2</th>\n",
              "      <td>7.8</td>\n",
              "      <td>0.76</td>\n",
              "      <td>0.04</td>\n",
              "      <td>2.3</td>\n",
              "      <td>0.092</td>\n",
              "      <td>15.0</td>\n",
              "      <td>54.0</td>\n",
              "      <td>0.9970</td>\n",
              "      <td>3.26</td>\n",
              "      <td>0.65</td>\n",
              "      <td>9.8</td>\n",
              "      <td>5</td>\n",
              "      <td>1</td>\n",
              "    </tr>\n",
              "    <tr>\n",
              "      <th>3</th>\n",
              "      <td>11.2</td>\n",
              "      <td>0.28</td>\n",
              "      <td>0.56</td>\n",
              "      <td>1.9</td>\n",
              "      <td>0.075</td>\n",
              "      <td>17.0</td>\n",
              "      <td>60.0</td>\n",
              "      <td>0.9980</td>\n",
              "      <td>3.16</td>\n",
              "      <td>0.58</td>\n",
              "      <td>9.8</td>\n",
              "      <td>6</td>\n",
              "      <td>1</td>\n",
              "    </tr>\n",
              "    <tr>\n",
              "      <th>4</th>\n",
              "      <td>7.4</td>\n",
              "      <td>0.70</td>\n",
              "      <td>0.00</td>\n",
              "      <td>1.9</td>\n",
              "      <td>0.076</td>\n",
              "      <td>11.0</td>\n",
              "      <td>34.0</td>\n",
              "      <td>0.9978</td>\n",
              "      <td>3.51</td>\n",
              "      <td>0.56</td>\n",
              "      <td>9.4</td>\n",
              "      <td>5</td>\n",
              "      <td>1</td>\n",
              "    </tr>\n",
              "  </tbody>\n",
              "</table>\n",
              "</div>"
            ],
            "text/plain": [
              "   fixed_acidity  volatile_acidity  citric_acid  residual_sugar  chlorides  \\\n",
              "0            7.4              0.70         0.00             1.9      0.076   \n",
              "1            7.8              0.88         0.00             2.6      0.098   \n",
              "2            7.8              0.76         0.04             2.3      0.092   \n",
              "3           11.2              0.28         0.56             1.9      0.075   \n",
              "4            7.4              0.70         0.00             1.9      0.076   \n",
              "\n",
              "   free_sulfur_dioxide  total_sulfur_dioxide  density    pH  sulphates  \\\n",
              "0                 11.0                  34.0   0.9978  3.51       0.56   \n",
              "1                 25.0                  67.0   0.9968  3.20       0.68   \n",
              "2                 15.0                  54.0   0.9970  3.26       0.65   \n",
              "3                 17.0                  60.0   0.9980  3.16       0.58   \n",
              "4                 11.0                  34.0   0.9978  3.51       0.56   \n",
              "\n",
              "   alcohol  quality  color  \n",
              "0      9.4        5      1  \n",
              "1      9.8        5      1  \n",
              "2      9.8        5      1  \n",
              "3      9.8        6      1  \n",
              "4      9.4        5      1  "
            ]
          },
          "metadata": {
            "tags": []
          },
          "execution_count": 34
        }
      ]
    },
    {
      "metadata": {
        "id": "B1qpvfu15pl_",
        "colab_type": "text"
      },
      "cell_type": "markdown",
      "source": [
        "* Vemos el tipo de variable que acompaña a cada caracteristica."
      ]
    },
    {
      "metadata": {
        "ExecuteTime": {
          "end_time": "2017-05-09T23:59:21.237021Z",
          "start_time": "2017-05-09T23:59:21.205679Z"
        },
        "scrolled": true,
        "id": "wZ7M7yCS5pmA",
        "colab_type": "code",
        "outputId": "43b1c07a-5cda-479c-a6e5-6ba91217142e",
        "colab": {
          "base_uri": "https://localhost:8080/",
          "height": 255
        }
      },
      "cell_type": "code",
      "source": [
        "data.dtypes"
      ],
      "execution_count": 0,
      "outputs": [
        {
          "output_type": "execute_result",
          "data": {
            "text/plain": [
              "fixed_acidity           float64\n",
              "volatile_acidity        float64\n",
              "citric_acid             float64\n",
              "residual_sugar          float64\n",
              "chlorides               float64\n",
              "free_sulfur_dioxide     float64\n",
              "total_sulfur_dioxide    float64\n",
              "density                 float64\n",
              "pH                      float64\n",
              "sulphates               float64\n",
              "alcohol                 float64\n",
              "quality                   int64\n",
              "color                     int64\n",
              "dtype: object"
            ]
          },
          "metadata": {
            "tags": []
          },
          "execution_count": 35
        }
      ]
    },
    {
      "metadata": {
        "id": "4YIbXumd5pmE",
        "colab_type": "text"
      },
      "cell_type": "markdown",
      "source": [
        "* Cambiamos el formato de los datos en la columna de 'color' para asi poder usarlos."
      ]
    },
    {
      "metadata": {
        "ExecuteTime": {
          "end_time": "2017-05-09T23:59:21.265375Z",
          "start_time": "2017-05-09T23:59:21.255260Z"
        },
        "id": "8eIxMLPk5pmE",
        "colab_type": "code",
        "colab": {}
      },
      "cell_type": "code",
      "source": [
        "data['color'] = data.color.replace('white',0).replace('red',1).astype(np.int)"
      ],
      "execution_count": 0,
      "outputs": []
    },
    {
      "metadata": {
        "id": "b5-tW8G55pmI",
        "colab_type": "text"
      },
      "cell_type": "markdown",
      "source": [
        "# Desicion Trees\n",
        "\n",
        "## Separación de la Data\n",
        "\n",
        "* Usando `StratifiedShuffleSplit` para separar la data en una entrenamiento y en una de prueba."
      ]
    },
    {
      "metadata": {
        "ExecuteTime": {
          "end_time": "2017-05-09T23:59:21.274460Z",
          "start_time": "2017-05-09T23:59:21.270038Z"
        },
        "id": "xwKMKVis5pmK",
        "colab_type": "code",
        "colab": {}
      },
      "cell_type": "code",
      "source": [
        "feature_cols = [x for x in data.columns if x not in 'color']"
      ],
      "execution_count": 0,
      "outputs": []
    },
    {
      "metadata": {
        "ExecuteTime": {
          "end_time": "2017-05-09T23:59:21.627973Z",
          "start_time": "2017-05-09T23:59:21.283564Z"
        },
        "id": "ivnayv-65pmN",
        "colab_type": "code",
        "colab": {}
      },
      "cell_type": "code",
      "source": [
        "from sklearn.model_selection import StratifiedShuffleSplit\n",
        "\n",
        "Data_split = StratifiedShuffleSplit(n_splits=1, test_size=1000, random_state=42)\n",
        "\n",
        "train_idx, test_idx = next(Data_split.split(data[feature_cols], data['color']))\n",
        "\n",
        "X_train = data.loc[train_idx, feature_cols]\n",
        "y_train = data.loc[train_idx, 'color']\n",
        "\n",
        "X_test = data.loc[test_idx, feature_cols]\n",
        "y_test = data.loc[test_idx, 'color']"
      ],
      "execution_count": 0,
      "outputs": []
    },
    {
      "metadata": {
        "id": "6O7bNTJS5pmQ",
        "colab_type": "text"
      },
      "cell_type": "markdown",
      "source": [
        "* Verificando que se separo bien la data."
      ]
    },
    {
      "metadata": {
        "id": "_06fTcvc5pmR",
        "colab_type": "code",
        "outputId": "a72c1189-1e1c-462e-e15e-4aff419354f7",
        "colab": {
          "base_uri": "https://localhost:8080/",
          "height": 204
        }
      },
      "cell_type": "code",
      "source": [
        "X_train.head()"
      ],
      "execution_count": 0,
      "outputs": [
        {
          "output_type": "execute_result",
          "data": {
            "text/html": [
              "<div>\n",
              "<style scoped>\n",
              "    .dataframe tbody tr th:only-of-type {\n",
              "        vertical-align: middle;\n",
              "    }\n",
              "\n",
              "    .dataframe tbody tr th {\n",
              "        vertical-align: top;\n",
              "    }\n",
              "\n",
              "    .dataframe thead th {\n",
              "        text-align: right;\n",
              "    }\n",
              "</style>\n",
              "<table border=\"1\" class=\"dataframe\">\n",
              "  <thead>\n",
              "    <tr style=\"text-align: right;\">\n",
              "      <th></th>\n",
              "      <th>fixed_acidity</th>\n",
              "      <th>volatile_acidity</th>\n",
              "      <th>citric_acid</th>\n",
              "      <th>residual_sugar</th>\n",
              "      <th>chlorides</th>\n",
              "      <th>free_sulfur_dioxide</th>\n",
              "      <th>total_sulfur_dioxide</th>\n",
              "      <th>density</th>\n",
              "      <th>pH</th>\n",
              "      <th>sulphates</th>\n",
              "      <th>alcohol</th>\n",
              "      <th>quality</th>\n",
              "    </tr>\n",
              "  </thead>\n",
              "  <tbody>\n",
              "    <tr>\n",
              "      <th>3627</th>\n",
              "      <td>8.9</td>\n",
              "      <td>0.21</td>\n",
              "      <td>0.34</td>\n",
              "      <td>7.1</td>\n",
              "      <td>0.037</td>\n",
              "      <td>33.0</td>\n",
              "      <td>150.0</td>\n",
              "      <td>0.99620</td>\n",
              "      <td>3.10</td>\n",
              "      <td>0.45</td>\n",
              "      <td>9.7</td>\n",
              "      <td>6</td>\n",
              "    </tr>\n",
              "    <tr>\n",
              "      <th>1932</th>\n",
              "      <td>6.5</td>\n",
              "      <td>0.28</td>\n",
              "      <td>0.34</td>\n",
              "      <td>9.9</td>\n",
              "      <td>0.038</td>\n",
              "      <td>30.0</td>\n",
              "      <td>133.0</td>\n",
              "      <td>0.99540</td>\n",
              "      <td>3.11</td>\n",
              "      <td>0.44</td>\n",
              "      <td>9.8</td>\n",
              "      <td>5</td>\n",
              "    </tr>\n",
              "    <tr>\n",
              "      <th>5055</th>\n",
              "      <td>6.0</td>\n",
              "      <td>0.39</td>\n",
              "      <td>0.13</td>\n",
              "      <td>1.2</td>\n",
              "      <td>0.042</td>\n",
              "      <td>60.0</td>\n",
              "      <td>172.0</td>\n",
              "      <td>0.99114</td>\n",
              "      <td>3.06</td>\n",
              "      <td>0.52</td>\n",
              "      <td>10.6</td>\n",
              "      <td>5</td>\n",
              "    </tr>\n",
              "    <tr>\n",
              "      <th>2372</th>\n",
              "      <td>6.1</td>\n",
              "      <td>0.27</td>\n",
              "      <td>0.30</td>\n",
              "      <td>16.7</td>\n",
              "      <td>0.039</td>\n",
              "      <td>49.0</td>\n",
              "      <td>172.0</td>\n",
              "      <td>0.99985</td>\n",
              "      <td>3.40</td>\n",
              "      <td>0.45</td>\n",
              "      <td>9.4</td>\n",
              "      <td>5</td>\n",
              "    </tr>\n",
              "    <tr>\n",
              "      <th>158</th>\n",
              "      <td>7.1</td>\n",
              "      <td>0.68</td>\n",
              "      <td>0.00</td>\n",
              "      <td>2.2</td>\n",
              "      <td>0.073</td>\n",
              "      <td>12.0</td>\n",
              "      <td>22.0</td>\n",
              "      <td>0.99690</td>\n",
              "      <td>3.48</td>\n",
              "      <td>0.50</td>\n",
              "      <td>9.3</td>\n",
              "      <td>5</td>\n",
              "    </tr>\n",
              "  </tbody>\n",
              "</table>\n",
              "</div>"
            ],
            "text/plain": [
              "      fixed_acidity  volatile_acidity  citric_acid  residual_sugar  chlorides  \\\n",
              "3627            8.9              0.21         0.34             7.1      0.037   \n",
              "1932            6.5              0.28         0.34             9.9      0.038   \n",
              "5055            6.0              0.39         0.13             1.2      0.042   \n",
              "2372            6.1              0.27         0.30            16.7      0.039   \n",
              "158             7.1              0.68         0.00             2.2      0.073   \n",
              "\n",
              "      free_sulfur_dioxide  total_sulfur_dioxide  density    pH  sulphates  \\\n",
              "3627                 33.0                 150.0  0.99620  3.10       0.45   \n",
              "1932                 30.0                 133.0  0.99540  3.11       0.44   \n",
              "5055                 60.0                 172.0  0.99114  3.06       0.52   \n",
              "2372                 49.0                 172.0  0.99985  3.40       0.45   \n",
              "158                  12.0                  22.0  0.99690  3.48       0.50   \n",
              "\n",
              "      alcohol  quality  \n",
              "3627      9.7        6  \n",
              "1932      9.8        5  \n",
              "5055     10.6        5  \n",
              "2372      9.4        5  \n",
              "158       9.3        5  "
            ]
          },
          "metadata": {
            "tags": []
          },
          "execution_count": 39
        }
      ]
    },
    {
      "metadata": {
        "id": "E56H8pEW5pmU",
        "colab_type": "text"
      },
      "cell_type": "markdown",
      "source": [
        "## Generando el modelo de Desicion Trees\n",
        "\n",
        "* Ajustando el modelo con la parte de entrenamiento que separamos anteriormente, no usaremos profundidad máxima, cantidad de nodos ni cantidad de caracteristicas."
      ]
    },
    {
      "metadata": {
        "ExecuteTime": {
          "end_time": "2017-05-09T23:59:21.711217Z",
          "start_time": "2017-05-09T23:59:21.651488Z"
        },
        "id": "aprX-6Fo5pmV",
        "colab_type": "code",
        "colab": {}
      },
      "cell_type": "code",
      "source": [
        "from sklearn.tree import DecisionTreeClassifier\n",
        "\n",
        "dt = DecisionTreeClassifier(random_state=42)\n",
        "dt = dt.fit(X_train, y_train)"
      ],
      "execution_count": 0,
      "outputs": []
    },
    {
      "metadata": {
        "id": "BI9nJBD85pmY",
        "colab_type": "text"
      },
      "cell_type": "markdown",
      "source": [
        "* Número de nodos y máxima produndidad."
      ]
    },
    {
      "metadata": {
        "ExecuteTime": {
          "end_time": "2017-05-09T23:59:21.717346Z",
          "start_time": "2017-05-09T23:59:21.712743Z"
        },
        "id": "qmZQLBw-5pmY",
        "colab_type": "code",
        "outputId": "2ad958bb-71b3-4224-e2d8-de552421a7f0",
        "colab": {
          "base_uri": "https://localhost:8080/",
          "height": 34
        }
      },
      "cell_type": "code",
      "source": [
        "dt.tree_.node_count, dt.tree_.max_depth"
      ],
      "execution_count": 0,
      "outputs": [
        {
          "output_type": "execute_result",
          "data": {
            "text/plain": [
              "(171, 22)"
            ]
          },
          "metadata": {
            "tags": []
          },
          "execution_count": 41
        }
      ]
    },
    {
      "metadata": {
        "id": "U2T0sGAx5pmb",
        "colab_type": "text"
      },
      "cell_type": "markdown",
      "source": [
        "* Función para medir el error."
      ]
    },
    {
      "metadata": {
        "ExecuteTime": {
          "end_time": "2017-05-09T23:59:21.730535Z",
          "start_time": "2017-05-09T23:59:21.723077Z"
        },
        "id": "OLVwXxcU5pmd",
        "colab_type": "code",
        "colab": {}
      },
      "cell_type": "code",
      "source": [
        "from sklearn.metrics import accuracy_score, precision_score, recall_score, f1_score\n",
        "\n",
        "def errorfunc(y, y_pred, label):\n",
        "    return pd.Series({'exactitud':accuracy_score(y, y_pred),\n",
        "                      'precisión': precision_score(y, y_pred),\n",
        "                      'recall': recall_score(y, y_pred),\n",
        "                      'f1': f1_score(y, y_pred)},\n",
        "                      name=label)"
      ],
      "execution_count": 0,
      "outputs": []
    },
    {
      "metadata": {
        "id": "qxG43zjE5pmg",
        "colab_type": "text"
      },
      "cell_type": "markdown",
      "source": [
        "* Calculando el Error."
      ]
    },
    {
      "metadata": {
        "ExecuteTime": {
          "end_time": "2017-05-09T23:59:21.751859Z",
          "start_time": "2017-05-09T23:59:21.732680Z"
        },
        "id": "1ta567ix5pmg",
        "colab_type": "code",
        "outputId": "db23f5fb-731a-4a67-de9a-85da79bd953e",
        "colab": {
          "base_uri": "https://localhost:8080/",
          "height": 173
        }
      },
      "cell_type": "code",
      "source": [
        "y_train_pred = dt.predict(X_train)\n",
        "y_test_pred = dt.predict(X_test)\n",
        "\n",
        "full_error = pd.concat([errorfunc(y_train, y_train_pred, 'train'),\n",
        "                              errorfunc(y_test, y_test_pred, 'test')],\n",
        "                              axis=1)\n",
        "\n",
        "full_error"
      ],
      "execution_count": 0,
      "outputs": [
        {
          "output_type": "execute_result",
          "data": {
            "text/html": [
              "<div>\n",
              "<style scoped>\n",
              "    .dataframe tbody tr th:only-of-type {\n",
              "        vertical-align: middle;\n",
              "    }\n",
              "\n",
              "    .dataframe tbody tr th {\n",
              "        vertical-align: top;\n",
              "    }\n",
              "\n",
              "    .dataframe thead th {\n",
              "        text-align: right;\n",
              "    }\n",
              "</style>\n",
              "<table border=\"1\" class=\"dataframe\">\n",
              "  <thead>\n",
              "    <tr style=\"text-align: right;\">\n",
              "      <th></th>\n",
              "      <th>train</th>\n",
              "      <th>test</th>\n",
              "    </tr>\n",
              "  </thead>\n",
              "  <tbody>\n",
              "    <tr>\n",
              "      <th>exactitud</th>\n",
              "      <td>0.999818</td>\n",
              "      <td>0.984000</td>\n",
              "    </tr>\n",
              "    <tr>\n",
              "      <th>f1</th>\n",
              "      <td>0.999631</td>\n",
              "      <td>0.967611</td>\n",
              "    </tr>\n",
              "    <tr>\n",
              "      <th>precisión</th>\n",
              "      <td>0.999261</td>\n",
              "      <td>0.963710</td>\n",
              "    </tr>\n",
              "    <tr>\n",
              "      <th>recall</th>\n",
              "      <td>1.000000</td>\n",
              "      <td>0.971545</td>\n",
              "    </tr>\n",
              "  </tbody>\n",
              "</table>\n",
              "</div>"
            ],
            "text/plain": [
              "              train      test\n",
              "exactitud  0.999818  0.984000\n",
              "f1         0.999631  0.967611\n",
              "precisión  0.999261  0.963710\n",
              "recall     1.000000  0.971545"
            ]
          },
          "metadata": {
            "tags": []
          },
          "execution_count": 43
        }
      ]
    },
    {
      "metadata": {
        "id": "HuH0sD2e5pmk",
        "colab_type": "text"
      },
      "cell_type": "markdown",
      "source": [
        "## Grid para la optimización de parametros\n",
        "\n",
        "* Ajustando el modelo con grid para mejorar la presicion y eliminando el overfiting."
      ]
    },
    {
      "metadata": {
        "ExecuteTime": {
          "end_time": "2017-05-09T23:59:24.274020Z",
          "start_time": "2017-05-09T23:59:21.753343Z"
        },
        "id": "tbB37CIF5pml",
        "colab_type": "code",
        "colab": {}
      },
      "cell_type": "code",
      "source": [
        "from sklearn.model_selection import GridSearchCV\n",
        "\n",
        "param_grid = {'max_depth':range(1, dt.tree_.max_depth+1, 2),\n",
        "              'max_features': range(1, len(dt.feature_importances_)+1)}\n",
        "\n",
        "GR = GridSearchCV(DecisionTreeClassifier(random_state=42),\n",
        "                  param_grid=param_grid,\n",
        "                  scoring='precision',\n",
        "                  n_jobs=-1)\n",
        "\n",
        "GR = GR.fit(X_train, y_train)"
      ],
      "execution_count": 0,
      "outputs": []
    },
    {
      "metadata": {
        "id": "0eXJXxzE5pmo",
        "colab_type": "text"
      },
      "cell_type": "markdown",
      "source": [
        "* Número de nodos y máxima produndidad."
      ]
    },
    {
      "metadata": {
        "ExecuteTime": {
          "end_time": "2017-05-09T23:59:24.280804Z",
          "start_time": "2017-05-09T23:59:24.275977Z"
        },
        "id": "1Dx5rRnv5pmp",
        "colab_type": "code",
        "outputId": "d5f886f5-8555-43bd-d8bc-31f6d4f634e3",
        "colab": {
          "base_uri": "https://localhost:8080/",
          "height": 34
        }
      },
      "cell_type": "code",
      "source": [
        "GR.best_estimator_.tree_.node_count, GR.best_estimator_.tree_.max_depth"
      ],
      "execution_count": 0,
      "outputs": [
        {
          "output_type": "execute_result",
          "data": {
            "text/plain": [
              "(129, 9)"
            ]
          },
          "metadata": {
            "tags": []
          },
          "execution_count": 45
        }
      ]
    },
    {
      "metadata": {
        "id": "l2J9DrfM5pmu",
        "colab_type": "text"
      },
      "cell_type": "markdown",
      "source": [
        "* Calculando el Error."
      ]
    },
    {
      "metadata": {
        "ExecuteTime": {
          "end_time": "2017-05-09T23:59:24.295309Z",
          "start_time": "2017-05-09T23:59:24.282493Z"
        },
        "id": "KzinghxN5pmv",
        "colab_type": "code",
        "colab": {}
      },
      "cell_type": "code",
      "source": [
        "y_train_pred_gr = GR.predict(X_train)\n",
        "y_test_pred_gr = GR.predict(X_test)\n",
        "\n",
        "train_test_gr_error = pd.concat([errorfunc(y_train, y_train_pred_gr, 'train'),\n",
        "                                 errorfunc(y_test, y_test_pred_gr, 'test')],\n",
        "                                axis=1)"
      ],
      "execution_count": 0,
      "outputs": []
    },
    {
      "metadata": {
        "ExecuteTime": {
          "end_time": "2017-05-09T23:59:24.303642Z",
          "start_time": "2017-05-09T23:59:24.296649Z"
        },
        "id": "i45vnxnJ5pmx",
        "colab_type": "code",
        "outputId": "1ccf21f0-79f6-4ab8-e891-b3bfe576859d",
        "colab": {}
      },
      "cell_type": "code",
      "source": [
        "train_test_gr_error"
      ],
      "execution_count": 0,
      "outputs": [
        {
          "output_type": "execute_result",
          "data": {
            "text/html": [
              "<div>\n",
              "<style scoped>\n",
              "    .dataframe tbody tr th:only-of-type {\n",
              "        vertical-align: middle;\n",
              "    }\n",
              "\n",
              "    .dataframe tbody tr th {\n",
              "        vertical-align: top;\n",
              "    }\n",
              "\n",
              "    .dataframe thead th {\n",
              "        text-align: right;\n",
              "    }\n",
              "</style>\n",
              "<table border=\"1\" class=\"dataframe\">\n",
              "  <thead>\n",
              "    <tr style=\"text-align: right;\">\n",
              "      <th></th>\n",
              "      <th>train</th>\n",
              "      <th>test</th>\n",
              "    </tr>\n",
              "  </thead>\n",
              "  <tbody>\n",
              "    <tr>\n",
              "      <th>exactitud</th>\n",
              "      <td>0.997089</td>\n",
              "      <td>0.990000</td>\n",
              "    </tr>\n",
              "    <tr>\n",
              "      <th>precisión</th>\n",
              "      <td>0.998509</td>\n",
              "      <td>0.983607</td>\n",
              "    </tr>\n",
              "    <tr>\n",
              "      <th>recall</th>\n",
              "      <td>0.989653</td>\n",
              "      <td>0.975610</td>\n",
              "    </tr>\n",
              "    <tr>\n",
              "      <th>f1</th>\n",
              "      <td>0.994061</td>\n",
              "      <td>0.979592</td>\n",
              "    </tr>\n",
              "  </tbody>\n",
              "</table>\n",
              "</div>"
            ],
            "text/plain": [
              "              train      test\n",
              "exactitud  0.997089  0.990000\n",
              "precisión  0.998509  0.983607\n",
              "recall     0.989653  0.975610\n",
              "f1         0.994061  0.979592"
            ]
          },
          "metadata": {
            "tags": []
          },
          "execution_count": 71
        }
      ]
    },
    {
      "metadata": {
        "id": "DlIDjVbQ5pm1",
        "colab_type": "text"
      },
      "cell_type": "markdown",
      "source": [
        "## Desicion Tree para prediccion de valores continuos\n",
        "\n",
        "* Re-separamos la data `X` e `y`, está vez trataremos de predecir la cantidad de alcohol del vino."
      ]
    },
    {
      "metadata": {
        "ExecuteTime": {
          "end_time": "2017-05-09T23:59:24.317443Z",
          "start_time": "2017-05-09T23:59:24.305043Z"
        },
        "id": "Vd-Nzv5r5pm2",
        "colab_type": "code",
        "colab": {}
      },
      "cell_type": "code",
      "source": [
        "feature_cols = [x for x in data.columns if x != 'alcohol']\n",
        "\n",
        "X_train = data.loc[train_idx, feature_cols]\n",
        "y_train = data.loc[train_idx, 'alcohol']\n",
        "\n",
        "X_test = data.loc[test_idx, feature_cols]\n",
        "y_test = data.loc[test_idx, 'alcohol']"
      ],
      "execution_count": 0,
      "outputs": []
    },
    {
      "metadata": {
        "id": "N1oDSGGI5pm5",
        "colab_type": "text"
      },
      "cell_type": "markdown",
      "source": [
        "* Usando Grid para predecir el modelo."
      ]
    },
    {
      "metadata": {
        "ExecuteTime": {
          "end_time": "2017-05-09T23:59:28.931614Z",
          "start_time": "2017-05-09T23:59:24.318919Z"
        },
        "id": "VcuH-SWS5pm5",
        "colab_type": "code",
        "colab": {}
      },
      "cell_type": "code",
      "source": [
        "from sklearn.tree import DecisionTreeRegressor\n",
        "\n",
        "dr = DecisionTreeRegressor().fit(X_train, y_train)\n",
        "\n",
        "param_grid = {'max_depth':range(1, dr.tree_.max_depth+1, 2),\n",
        "              'max_features': range(1, len(dr.feature_importances_)+1)}\n",
        "\n",
        "GR_alcohol = GridSearchCV(DecisionTreeRegressor(random_state=42),\n",
        "                     param_grid=param_grid,\n",
        "                     scoring='neg_mean_squared_error',\n",
        "                      n_jobs=-1)\n",
        "\n",
        "GR_alcohol = GR_alcohol.fit(X_train, y_train)"
      ],
      "execution_count": 0,
      "outputs": []
    },
    {
      "metadata": {
        "id": "oKnvA30-5pm8",
        "colab_type": "text"
      },
      "cell_type": "markdown",
      "source": [
        "* Número de nodos y máxima produndidad."
      ]
    },
    {
      "metadata": {
        "ExecuteTime": {
          "end_time": "2017-05-09T23:59:28.941182Z",
          "start_time": "2017-05-09T23:59:28.933876Z"
        },
        "id": "rF2b_jbQ5pm8",
        "colab_type": "code",
        "outputId": "aa6d569c-0ddd-43b0-9674-27c8543d4f57",
        "colab": {
          "base_uri": "https://localhost:8080/",
          "height": 34
        }
      },
      "cell_type": "code",
      "source": [
        "GR_alcohol.best_estimator_.tree_.node_count, GR_alcohol.best_estimator_.tree_.max_depth"
      ],
      "execution_count": 0,
      "outputs": [
        {
          "output_type": "execute_result",
          "data": {
            "text/plain": [
              "(1787, 11)"
            ]
          },
          "metadata": {
            "tags": []
          },
          "execution_count": 54
        }
      ]
    },
    {
      "metadata": {
        "id": "d8nxKHls5pm_",
        "colab_type": "text"
      },
      "cell_type": "markdown",
      "source": [
        "The error on train and test data sets. Since this is continuous, we will use mean squared error."
      ]
    },
    {
      "metadata": {
        "ExecuteTime": {
          "end_time": "2017-05-09T23:59:28.962134Z",
          "start_time": "2017-05-09T23:59:28.943461Z"
        },
        "id": "vlo044Ua5pnA",
        "colab_type": "code",
        "outputId": "eb14ce43-8f26-4e01-e982-555ae7f6ca83",
        "colab": {
          "base_uri": "https://localhost:8080/",
          "height": 80
        }
      },
      "cell_type": "code",
      "source": [
        "from sklearn.metrics import mean_squared_error\n",
        "\n",
        "y_train_pred_alcohol = GR_alcohol.predict(X_train)\n",
        "y_test_pred_alcohol  = GR_alcohol.predict(X_test)\n",
        "\n",
        "alcohol_error = pd.Series({'train': mean_squared_error(y_train,y_train_pred_alcohol),\n",
        "                                         'test':  mean_squared_error(y_test, y_test_pred_alcohol )},\n",
        "                                          name='MSE').to_frame().T\n",
        "\n",
        "alcohol_error"
      ],
      "execution_count": 0,
      "outputs": [
        {
          "output_type": "execute_result",
          "data": {
            "text/html": [
              "<div>\n",
              "<style scoped>\n",
              "    .dataframe tbody tr th:only-of-type {\n",
              "        vertical-align: middle;\n",
              "    }\n",
              "\n",
              "    .dataframe tbody tr th {\n",
              "        vertical-align: top;\n",
              "    }\n",
              "\n",
              "    .dataframe thead th {\n",
              "        text-align: right;\n",
              "    }\n",
              "</style>\n",
              "<table border=\"1\" class=\"dataframe\">\n",
              "  <thead>\n",
              "    <tr style=\"text-align: right;\">\n",
              "      <th></th>\n",
              "      <th>test</th>\n",
              "      <th>train</th>\n",
              "    </tr>\n",
              "  </thead>\n",
              "  <tbody>\n",
              "    <tr>\n",
              "      <th>MSE</th>\n",
              "      <td>0.299873</td>\n",
              "      <td>0.086691</td>\n",
              "    </tr>\n",
              "  </tbody>\n",
              "</table>\n",
              "</div>"
            ],
            "text/plain": [
              "         test     train\n",
              "MSE  0.299873  0.086691"
            ]
          },
          "metadata": {
            "tags": []
          },
          "execution_count": 73
        }
      ]
    },
    {
      "metadata": {
        "id": "xCxh3q_-5pnD",
        "colab_type": "text"
      },
      "cell_type": "markdown",
      "source": [
        "Comparemos los valores reales con los obtenidos."
      ]
    },
    {
      "metadata": {
        "ExecuteTime": {
          "end_time": "2017-05-09T23:59:29.172915Z",
          "start_time": "2017-05-09T23:59:28.964448Z"
        },
        "id": "VAiwL6_y5pnE",
        "colab_type": "code",
        "colab": {}
      },
      "cell_type": "code",
      "source": [
        "import matplotlib.pyplot as plt\n",
        "import seaborn as sns\n",
        "\n",
        "sns.set_context('notebook')\n",
        "sns.set_style('white')\n",
        "sns.set_palette('dark')\n",
        "\n",
        "% matplotlib inline"
      ],
      "execution_count": 0,
      "outputs": []
    },
    {
      "metadata": {
        "ExecuteTime": {
          "end_time": "2017-05-09T23:59:29.415847Z",
          "start_time": "2017-05-09T23:59:29.174948Z"
        },
        "id": "TlTVfqiI5pnH",
        "colab_type": "code",
        "outputId": "acd9b1d9-b8e8-4a1e-ae0d-1d78011f6853",
        "colab": {
          "base_uri": "https://localhost:8080/",
          "height": 392
        }
      },
      "cell_type": "code",
      "source": [
        "fig = plt.figure(figsize=(6,6))\n",
        "ax = plt.axes()\n",
        "\n",
        "alcohol_test_predict = pd.DataFrame({'test':y_test.values,\n",
        "                                'predict': y_test_pred_alcohol}).set_index('test').sort_index()\n",
        "\n",
        "alcohol_test_predict.plot(marker='o', ls='', ax=ax)\n",
        "ax.set(xlabel='Test', ylabel='Predict', xlim=(0,35), ylim=(0,35));\n",
        "\n",
        "from matplotlib import pyplot\n",
        "x = range(35);\n",
        "y = x;\n",
        "a = pyplot.plot(x,y)\n",
        "\n"
      ],
      "execution_count": 0,
      "outputs": [
        {
          "output_type": "display_data",
          "data": {
            "image/png": "[encoded data removed]",
            "text/plain": [
              "<matplotlib.figure.Figure at 0x7fab43cbf4a8>"
            ]
          },
          "metadata": {
            "tags": []
          }
        }
      ]
    },
    {
      "metadata": {
        "collapsed": true,
        "id": "lX6ffJaw5pnK",
        "colab_type": "text"
      },
      "cell_type": "markdown",
      "source": [
        "# KNN\n"
      ]
    },
    {
      "metadata": {
        "id": "EOOkSc335pnK",
        "colab_type": "code",
        "colab": {}
      },
      "cell_type": "code",
      "source": [
        ""
      ],
      "execution_count": 0,
      "outputs": []
    },
    {
      "metadata": {
        "id": "O1khhxT15pnN",
        "colab_type": "text"
      },
      "cell_type": "markdown",
      "source": [
        ""
      ]
    },
    {
      "metadata": {
        "ExecuteTime": {
          "end_time": "2017-05-09T23:59:21.265375Z",
          "start_time": "2017-05-09T23:59:21.255260Z"
        },
        "id": "56ivqS_V5pnN",
        "colab_type": "code",
        "colab": {}
      },
      "cell_type": "code",
      "source": [
        ""
      ],
      "execution_count": 0,
      "outputs": []
    },
    {
      "metadata": {
        "id": "CYgxi81r5pnQ",
        "colab_type": "text"
      },
      "cell_type": "markdown",
      "source": [
        ""
      ]
    },
    {
      "metadata": {
        "ExecuteTime": {
          "end_time": "2017-05-09T23:59:21.274460Z",
          "start_time": "2017-05-09T23:59:21.270038Z"
        },
        "id": "NW81-ItU5pnQ",
        "colab_type": "code",
        "colab": {}
      },
      "cell_type": "code",
      "source": [
        "\n"
      ],
      "execution_count": 0,
      "outputs": []
    },
    {
      "metadata": {
        "ExecuteTime": {
          "end_time": "2017-05-09T23:59:21.627973Z",
          "start_time": "2017-05-09T23:59:21.283564Z"
        },
        "id": "I53ChkOZ5pnT",
        "colab_type": "code",
        "colab": {}
      },
      "cell_type": "code",
      "source": [
        ""
      ],
      "execution_count": 0,
      "outputs": []
    },
    {
      "metadata": {
        "id": "GRbfXl9F5pnU",
        "colab_type": "text"
      },
      "cell_type": "markdown",
      "source": [
        ""
      ]
    },
    {
      "metadata": {
        "ExecuteTime": {
          "end_time": "2017-05-09T23:59:21.639032Z",
          "start_time": "2017-05-09T23:59:21.629538Z"
        },
        "id": "NoUapZAL5pnV",
        "colab_type": "code",
        "colab": {}
      },
      "cell_type": "code",
      "source": [
        ""
      ],
      "execution_count": 0,
      "outputs": []
    },
    {
      "metadata": {
        "ExecuteTime": {
          "end_time": "2017-05-09T23:59:21.648983Z",
          "start_time": "2017-05-09T23:59:21.641824Z"
        },
        "id": "7QHV_X0h5pnX",
        "colab_type": "code",
        "colab": {}
      },
      "cell_type": "code",
      "source": [
        ""
      ],
      "execution_count": 0,
      "outputs": []
    },
    {
      "metadata": {
        "id": "dXYUdOAp5pnZ",
        "colab_type": "text"
      },
      "cell_type": "markdown",
      "source": [
        ""
      ]
    },
    {
      "metadata": {
        "ExecuteTime": {
          "end_time": "2017-05-09T23:59:21.711217Z",
          "start_time": "2017-05-09T23:59:21.651488Z"
        },
        "id": "DKhpW5Eg5pnb",
        "colab_type": "code",
        "colab": {}
      },
      "cell_type": "code",
      "source": [
        ""
      ],
      "execution_count": 0,
      "outputs": []
    },
    {
      "metadata": {
        "id": "35qdmSZg5pnf",
        "colab_type": "text"
      },
      "cell_type": "markdown",
      "source": [
        ""
      ]
    },
    {
      "metadata": {
        "ExecuteTime": {
          "end_time": "2017-05-09T23:59:21.717346Z",
          "start_time": "2017-05-09T23:59:21.712743Z"
        },
        "id": "Z2Y0jgQN5png",
        "colab_type": "code",
        "colab": {}
      },
      "cell_type": "code",
      "source": [
        ""
      ],
      "execution_count": 0,
      "outputs": []
    },
    {
      "metadata": {
        "id": "CshELBWO5pni",
        "colab_type": "text"
      },
      "cell_type": "markdown",
      "source": [
        ""
      ]
    },
    {
      "metadata": {
        "ExecuteTime": {
          "end_time": "2017-05-09T23:59:21.730535Z",
          "start_time": "2017-05-09T23:59:21.723077Z"
        },
        "id": "XbsZhKBF5pnl",
        "colab_type": "code",
        "colab": {}
      },
      "cell_type": "code",
      "source": [
        ""
      ],
      "execution_count": 0,
      "outputs": []
    },
    {
      "metadata": {
        "id": "tGJAjdN65pno",
        "colab_type": "text"
      },
      "cell_type": "markdown",
      "source": [
        ""
      ]
    },
    {
      "metadata": {
        "ExecuteTime": {
          "end_time": "2017-05-09T23:59:21.751859Z",
          "start_time": "2017-05-09T23:59:21.732680Z"
        },
        "id": "6RJW68_R5pnp",
        "colab_type": "code",
        "colab": {}
      },
      "cell_type": "code",
      "source": [
        ""
      ],
      "execution_count": 0,
      "outputs": []
    },
    {
      "metadata": {
        "id": "VkC6Wyq55pnr",
        "colab_type": "text"
      },
      "cell_type": "markdown",
      "source": [
        ""
      ]
    },
    {
      "metadata": {
        "ExecuteTime": {
          "end_time": "2017-05-09T23:59:24.274020Z",
          "start_time": "2017-05-09T23:59:21.753343Z"
        },
        "id": "ao2d1ilM5pns",
        "colab_type": "code",
        "colab": {}
      },
      "cell_type": "code",
      "source": [
        ""
      ],
      "execution_count": 0,
      "outputs": []
    },
    {
      "metadata": {
        "id": "tHGydWM35pnv",
        "colab_type": "text"
      },
      "cell_type": "markdown",
      "source": [
        ""
      ]
    },
    {
      "metadata": {
        "ExecuteTime": {
          "end_time": "2017-05-09T23:59:24.280804Z",
          "start_time": "2017-05-09T23:59:24.275977Z"
        },
        "id": "hYmaJZ2U5pnw",
        "colab_type": "code",
        "colab": {}
      },
      "cell_type": "code",
      "source": [
        ""
      ],
      "execution_count": 0,
      "outputs": []
    },
    {
      "metadata": {
        "id": "Uo_8TjH15pny",
        "colab_type": "text"
      },
      "cell_type": "markdown",
      "source": [
        ""
      ]
    },
    {
      "metadata": {
        "ExecuteTime": {
          "end_time": "2017-05-09T23:59:24.295309Z",
          "start_time": "2017-05-09T23:59:24.282493Z"
        },
        "id": "fxjRrN-V5pnz",
        "colab_type": "code",
        "colab": {}
      },
      "cell_type": "code",
      "source": [
        ""
      ],
      "execution_count": 0,
      "outputs": []
    },
    {
      "metadata": {
        "id": "pl9LOb0a5pn0",
        "colab_type": "text"
      },
      "cell_type": "markdown",
      "source": [
        ""
      ]
    },
    {
      "metadata": {
        "ExecuteTime": {
          "end_time": "2017-05-09T23:59:24.317443Z",
          "start_time": "2017-05-09T23:59:24.305043Z"
        },
        "id": "XLmKHwoe5pn1",
        "colab_type": "code",
        "colab": {}
      },
      "cell_type": "code",
      "source": [
        ""
      ],
      "execution_count": 0,
      "outputs": []
    },
    {
      "metadata": {
        "id": "93La1Tco5pn3",
        "colab_type": "text"
      },
      "cell_type": "markdown",
      "source": [
        ""
      ]
    },
    {
      "metadata": {
        "ExecuteTime": {
          "end_time": "2017-05-09T23:59:28.941182Z",
          "start_time": "2017-05-09T23:59:28.933876Z"
        },
        "id": "-IOqBHDw5pn3",
        "colab_type": "code",
        "colab": {}
      },
      "cell_type": "code",
      "source": [
        ""
      ],
      "execution_count": 0,
      "outputs": []
    },
    {
      "metadata": {
        "id": "Ohtf75GP5pn5",
        "colab_type": "text"
      },
      "cell_type": "markdown",
      "source": [
        ""
      ]
    },
    {
      "metadata": {
        "ExecuteTime": {
          "end_time": "2017-05-09T23:59:28.962134Z",
          "start_time": "2017-05-09T23:59:28.943461Z"
        },
        "id": "h7ZAz37N5pn6",
        "colab_type": "code",
        "colab": {}
      },
      "cell_type": "code",
      "source": [
        ""
      ],
      "execution_count": 0,
      "outputs": []
    },
    {
      "metadata": {
        "id": "i3TWFtuc5pn-",
        "colab_type": "text"
      },
      "cell_type": "markdown",
      "source": [
        ""
      ]
    },
    {
      "metadata": {
        "ExecuteTime": {
          "end_time": "2017-05-09T23:59:29.415847Z",
          "start_time": "2017-05-09T23:59:29.174948Z"
        },
        "id": "1dMugiPI5pn-",
        "colab_type": "code",
        "colab": {}
      },
      "cell_type": "code",
      "source": [
        ""
      ],
      "execution_count": 0,
      "outputs": []
    },
    {
      "metadata": {
        "id": "9trVYVKy5pn_",
        "colab_type": "text"
      },
      "cell_type": "markdown",
      "source": [
        ""
      ]
    },
    {
      "metadata": {
        "ExecuteTime": {
          "end_time": "2017-05-09T23:59:29.435753Z",
          "start_time": "2017-05-09T23:59:29.417461Z"
        },
        "id": "655bwKns5poA",
        "colab_type": "code",
        "colab": {}
      },
      "cell_type": "code",
      "source": [
        ""
      ],
      "execution_count": 0,
      "outputs": []
    },
    {
      "metadata": {
        "id": "fCXFVLWk5poE",
        "colab_type": "text"
      },
      "cell_type": "markdown",
      "source": [
        ""
      ]
    },
    {
      "metadata": {
        "ExecuteTime": {
          "end_time": "2017-05-09T23:59:31.771292Z",
          "start_time": "2017-05-09T23:59:29.437977Z"
        },
        "id": "95zac8GV5poE",
        "colab_type": "code",
        "colab": {}
      },
      "cell_type": "code",
      "source": [
        ""
      ],
      "execution_count": 0,
      "outputs": []
    },
    {
      "metadata": {
        "id": "pju0xybj5poG",
        "colab_type": "text"
      },
      "cell_type": "markdown",
      "source": [
        ""
      ]
    },
    {
      "metadata": {
        "ExecuteTime": {
          "end_time": "2017-05-09T23:59:34.027107Z",
          "start_time": "2017-05-09T23:59:31.773741Z"
        },
        "id": "HnzYITn25poH",
        "colab_type": "code",
        "colab": {}
      },
      "cell_type": "code",
      "source": [
        ""
      ],
      "execution_count": 0,
      "outputs": []
    },
    {
      "metadata": {
        "id": "CoOzK_km5poJ",
        "colab_type": "code",
        "colab": {}
      },
      "cell_type": "code",
      "source": [
        ""
      ],
      "execution_count": 0,
      "outputs": []
    },
    {
      "metadata": {
        "id": "FGMIObyh4QMj",
        "colab_type": "code",
        "colab": {}
      },
      "cell_type": "code",
      "source": [
        ""
      ],
      "execution_count": 0,
      "outputs": []
    }
  ]
}